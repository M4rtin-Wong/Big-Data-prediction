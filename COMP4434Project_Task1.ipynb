{
 "cells": [
  {
   "cell_type": "code",
   "execution_count": 186,
   "metadata": {},
   "outputs": [],
   "source": [
    "# read data into array.\n",
    "import numpy as np\n",
    "import matplotlib.pyplot as plt\n",
    "from sklearn.metrics import mean_squared_error, r2_score\n",
    "from sklearn.linear_model import LinearRegression\n",
    "from sklearn.model_selection import train_test_split\n",
    "from sklearn.decomposition import PCA\n",
    "from sklearn import linear_model\n",
    "import pandas as pd\n",
    "import seaborn as sns\n",
    "teleplay_data = pd.read_csv('Teleplay.csv', sep=',',header=None)\n",
    "Newteleplay_data = pd.read_csv('New_Teleplay.csv', sep=',',header=None)\n",
    "data = np.array(teleplay_data)\n",
    "predict_data = np.array(Newteleplay_data)"
   ]
  },
  {
   "cell_type": "code",
   "execution_count": 187,
   "metadata": {},
   "outputs": [
    {
     "name": "stdout",
     "output_type": "stream",
     "text": [
      "[['Drama, Romance, School, Supernatural' 'long' '1' '200630']\n",
      " ['Action, Comedy, Historical, Parody, Samurai, Sci-Fi, Shounen' 'medium'\n",
      "  '51' '114262']\n",
      " ['Sci-Fi, Thriller' 'medium' '24' '673572']\n",
      " ...\n",
      " ['Restricted' 'short' '4' '219']\n",
      " ['Restricted' 'short' '1' '175']\n",
      " ['Restricted' 'long' '1' '142']]\n",
      "[['Comedy, Horror, School, Supernatural' 'medium' '33' '341']\n",
      " ['Action, Dementia, Drama, Sci-Fi' 'long' '1' '8230']\n",
      " ['Music' 'Music' '1' '126']\n",
      " ...\n",
      " ['Dementia' 'ONA' '1' '727']\n",
      " ['Adventure, Comedy, Kids' 'long' '1' '143']\n",
      " ['Adventure, Comedy, Fantasy, Sci-Fi, Shounen' 'long' '1' '51083']]\n"
     ]
    }
   ],
   "source": [
    "# delete data with null value \n",
    "nullDuplicateData = np.array(np.where((teleplay_data.isnull().values==True)))\n",
    "nullData = np.unique(nullDuplicateData[0])\n",
    "#delete rows with null data\n",
    "trainingData = np.delete(data,nullData,0)\n",
    "#delete first row as it is not data\n",
    "trainingData = np.delete(trainingData,0,0)\n",
    "predict_data = np.delete(predict_data,0,0)\n",
    "\n",
    "x = trainingData\n",
    "#only need genre, type, episodes and members\n",
    "deleteFeatures = [0,1,5]\n",
    "#x[0]:genre; x[1]:type; x[2]:episodes; x[3]:members\n",
    "x = np.delete(trainingData,deleteFeatures,1)\n",
    "predict_data = np.delete(predict_data,deleteFeatures,1)\n",
    "print(x)\n",
    "print(predict_data)"
   ]
  },
  {
   "cell_type": "code",
   "execution_count": 188,
   "metadata": {},
   "outputs": [
    {
     "name": "stdout",
     "output_type": "stream",
     "text": [
      "['Drama' 'Romance' 'School' 'Supernatural' 'Action' 'Comedy' 'Historical'\n",
      " 'Parody' 'Samurai' 'Sci-Fi' 'Shounen' 'Thriller' 'Sports' 'Adventure'\n",
      " 'Super Power' 'Military' 'Space' 'Fantasy' 'Slice of Life' 'Music'\n",
      " 'Mystery' 'Seinen' 'Vampire' 'Mecha' 'Shoujo' 'Horror' 'Police'\n",
      " 'Psychological' 'Demons' 'Josei' 'Shounen Ai' 'Game' 'Magic' 'Ecchi'\n",
      " 'Martial Arts' 'Dementia' 'Harem' 'Cars' 'Kids' 'Shoujo Ai' 'Restricted'\n",
      " 'Yaoi' 'Yuri']\n",
      "43\n"
     ]
    }
   ],
   "source": [
    "#feature scaling and find how many genres in total\n",
    "\n",
    "genres = x[0][0].split(\",\")\n",
    "genres = np.char.strip(genres)\n",
    "#for data in teleplay.csv\n",
    "for i in range(x.shape[0]):\n",
    "    #change types to float\n",
    "    if(x[i][1] == \"short\"):\n",
    "        x[i][1] = 1.0\n",
    "    elif(x[i][1] == \"medium\"):\n",
    "        x[i][1] = 2.0\n",
    "    elif(x[i][1] == \"long\"):\n",
    "        x[i][1] = 3.0\n",
    "    elif(x[i][1] == \"Special\"):\n",
    "        x[i][1] = 4.0\n",
    "    elif(x[i][1] == \"ONA\"):\n",
    "        x[i][1] = 5.0\n",
    "    else:\n",
    "        x[i][1] = 0.0\n",
    "    #change str to float for episodes and members\n",
    "    if (x[i][2] == \"Unknown\"):\n",
    "        x[i][2] = 0.0\n",
    "    else:\n",
    "        x[i][2] = float(x[i][2])\n",
    "    #data smoothing for members\n",
    "    x[i][3] = np.log1p(float(x[i][3]))\n",
    "    #find how many genres in total\n",
    "    checkDuplicateGenres = x[i][0].split(\",\")\n",
    "    checkDuplicateGenres = np.char.strip(checkDuplicateGenres)\n",
    "    for j in range (len(checkDuplicateGenres)):\n",
    "        if(checkDuplicateGenres[j] in genres):\n",
    "            continue\n",
    "        else:\n",
    "            genres = np.append(genres,checkDuplicateGenres[j])\n",
    "            \n",
    "print(genres)\n",
    "print(len(genres))\n",
    "\n",
    "#for data in Newteleplay.csv\n",
    "for i in range(predict_data.shape[0]):\n",
    "    #change types to float\n",
    "    if(predict_data[i][1] == \"short\"):\n",
    "        predict_data[i][1] = 1.0\n",
    "    elif(predict_data[i][1] == \"medium\"):\n",
    "        predict_data[i][1] = 2.0\n",
    "    elif(predict_data[i][1] == \"long\"):\n",
    "        predict_data[i][1] = 3.0\n",
    "    elif(predict_data[i][1] == \"Special\"):\n",
    "        predict_data[i][1] = 4.0\n",
    "    elif(predict_data[i][1] == \"ONA\"):\n",
    "        predict_data[i][1] = 5.0\n",
    "    else:\n",
    "        predict_data[i][1] = 0.0\n",
    "    #change str to float for episodes and members\n",
    "    if (predict_data[i][2] == \"Unknown\"):\n",
    "        predict_data[i][2] = 0.0\n",
    "    else:\n",
    "        predict_data[i][2] = float(predict_data[i][2])\n",
    "    #data smoothing for members\n",
    "    predict_data[i][3] = np.log1p(float(predict_data[i][3]))\n",
    "    "
   ]
  },
  {
   "cell_type": "code",
   "execution_count": 189,
   "metadata": {},
   "outputs": [
    {
     "name": "stdout",
     "output_type": "stream",
     "text": [
      "[[1.0 1.0 1.0 ... 3.0 1.0 12.209222678961282]\n",
      " [0.0 0.0 0.0 ... 2.0 51.0 11.646258087841353]\n",
      " [0.0 0.0 0.0 ... 2.0 24.0 13.420351657971512]\n",
      " ...\n",
      " [0.0 0.0 0.0 ... 1.0 4.0 5.393627546352362]\n",
      " [0.0 0.0 0.0 ... 1.0 1.0 5.170483995038151]\n",
      " [0.0 0.0 0.0 ... 3.0 1.0 4.962844630259907]]\n"
     ]
    }
   ],
   "source": [
    "#one hot encoding for genres: \n",
    "#for data in teleplay.csv\n",
    "temp = x\n",
    "temp = np.delete(temp,0,1)\n",
    "genres = genres.tolist()\n",
    "for i in range(len(genres)):\n",
    "    temp = np.insert(temp, 0, 0.0, axis=1)\n",
    "for i in range(x.shape[0]):\n",
    "    splitGenres = x[i][0].split(\",\")\n",
    "    splitGenres = np.char.strip(splitGenres)\n",
    "    for k in range(len(splitGenres)):\n",
    "        index = genres.index(splitGenres[k])\n",
    "        temp[i][index] = 1.0\n",
    "x = temp\n",
    "print(x)\n",
    "\n",
    "#for data in Newteleplay.csv\n",
    "temp1 = predict_data\n",
    "temp1 = np.delete(temp1,0,1)\n",
    "for i in range(len(genres)):\n",
    "    temp1 = np.insert(temp1, 0, 0.0, axis=1)\n",
    "for i in range(predict_data.shape[0]):\n",
    "    if(pd.isnull(predict_data[i][0])):\n",
    "        continue\n",
    "    else:\n",
    "        splitGenres = predict_data[i][0].split(\",\")\n",
    "        splitGenres = np.char.strip(splitGenres)\n",
    "        for k in range(len(splitGenres)):\n",
    "            index = genres.index(splitGenres[k])\n",
    "            temp1[i][index] = 1.0\n",
    "predict_data = temp1\n",
    "#print(predict_data)"
   ]
  },
  {
   "cell_type": "code",
   "execution_count": 190,
   "metadata": {},
   "outputs": [],
   "source": [
    "#reduce the dimension of x to 1 dimension\n",
    "\n",
    "pca = PCA(n_components=1)\n",
    "principalComponents = pca.fit_transform(x)\n",
    "#print(pca.singular_values_)\n",
    "x = np.array(principalComponents)\n",
    "\n",
    "#to reduce the dimensions of data features of NewTeleplay.csv\n",
    "principalComponents = pca.fit_transform(predict_data)\n",
    "#print(pca.singular_values_)\n",
    "predict_data = np.array(principalComponents)\n"
   ]
  },
  {
   "cell_type": "code",
   "execution_count": 191,
   "metadata": {
    "scrolled": true
   },
   "outputs": [
    {
     "name": "stdout",
     "output_type": "stream",
     "text": [
      "              0\n",
      "0    -11.350893\n",
      "1     38.651031\n",
      "2     11.651656\n",
      "3     38.651339\n",
      "4     -2.349454\n",
      "...         ...\n",
      "9967 -11.356684\n",
      "9968 -11.356839\n",
      "9969  -8.356648\n",
      "9970 -11.356888\n",
      "9971 -11.359098\n",
      "\n",
      "[9972 rows x 1 columns]\n",
      "(6681, 1)\n",
      "(6681,)\n"
     ]
    }
   ],
   "source": [
    "#rating\n",
    "y = []\n",
    "for i in range(trainingData.shape[0]):\n",
    "    y.append(trainingData[i][5])\n",
    "\n",
    "y = np.array(y)\n",
    "y = y.astype(np.float) #change str to float\n",
    "\n",
    "train_x, test_x, train_y, test_y = train_test_split(x, y, test_size=0.33, random_state=42)\n",
    "\n",
    "print(pd.DataFrame(x))\n",
    "print(train_x.shape)\n",
    "print(train_y.shape)"
   ]
  },
  {
   "cell_type": "code",
   "execution_count": 193,
   "metadata": {},
   "outputs": [
    {
     "name": "stdout",
     "output_type": "stream",
     "text": [
      "Coefficients: \n",
      " [0.0013717]\n",
      "Mean squared error: 1.05\n",
      "Coefficient of determination: 0.01\n",
      "Training data accuracy:  0.005589947119396754\n",
      "Test data accuracy:  0.009051626049798034\n"
     ]
    },
    {
     "data": {
      "text/plain": [
       "<AxesSubplot:title={'center':'Predict the rating'}, xlabel='x', ylabel='Predict Rating'>"
      ]
     },
     "execution_count": 193,
     "metadata": {},
     "output_type": "execute_result"
    },
    {
     "data": {
      "image/png": "[encoded data removed]",
      "text/plain": [
       "<Figure size 432x288 with 1 Axes>"
      ]
     },
     "metadata": {
      "needs_background": "light"
     },
     "output_type": "display_data"
    }
   ],
   "source": [
    "# Model Initialization\n",
    "\n",
    "model = LinearRegression()\n",
    "model.fit(train_x,train_y)\n",
    "y_pred = model.predict(test_x)\n",
    "predict_rating = model.predict(predict_data)\n",
    "\n",
    "print('Coefficients: \\n', model.coef_)\n",
    "# The mean squared error\n",
    "print('Mean squared error: %.2f'% mean_squared_error(test_y, y_pred))\n",
    "# The coefficient of determination: 1 is perfect prediction\n",
    "print('Coefficient of determination: %.2f'% r2_score(test_y, y_pred))\n",
    "train_score = model.score(train_x,train_y)\n",
    "test_score = model.score(test_x,test_y)\n",
    "print(\"Training data accuracy: \",train_score)\n",
    "print(\"Test data accuracy: \",test_score)\n",
    "# Plot outputs\n",
    "    \n",
    "plt.title(\"Predict the rating\")\n",
    "#plt.scatter(test_x, test_y,  color='blue')\n",
    "#plt.plot(test_x, y_pred, color='red', linewidth=3)\n",
    "plt.ylabel(\"Predict Rating\")\n",
    "plt.xlabel(\"x\")\n",
    "#plt.show()\n",
    "sns.regplot(x=test_x, y=y_pred)"
   ]
  },
  {
   "cell_type": "code",
   "execution_count": 194,
   "metadata": {},
   "outputs": [
    {
     "name": "stdout",
     "output_type": "stream",
     "text": [
      "[6.5  6.45 6.45 ... 6.45 6.45 6.45]\n"
     ]
    },
    {
     "ename": "ValueError",
     "evalue": "Length of values (2090) does not match length of index (2091)",
     "output_type": "error",
     "traceback": [
      "\u001b[0;31m---------------------------------------------------------------------------\u001b[0m",
      "\u001b[0;31mValueError\u001b[0m                                Traceback (most recent call last)",
      "\u001b[0;32m<ipython-input-194-4dd907799fb9>\u001b[0m in \u001b[0;36m<module>\u001b[0;34m\u001b[0m\n\u001b[1;32m      4\u001b[0m \u001b[0mprint\u001b[0m\u001b[0;34m(\u001b[0m\u001b[0mpredict_rating\u001b[0m\u001b[0;34m)\u001b[0m\u001b[0;34m\u001b[0m\u001b[0;34m\u001b[0m\u001b[0m\n\u001b[1;32m      5\u001b[0m \u001b[0;31m#predict_rating = np.insert(predict_rating, 0, 'rating')\u001b[0m\u001b[0;34m\u001b[0m\u001b[0;34m\u001b[0m\u001b[0;34m\u001b[0m\u001b[0m\n\u001b[0;32m----> 6\u001b[0;31m \u001b[0mNewteleplay_data\u001b[0m\u001b[0;34m[\u001b[0m\u001b[0;34m'rating'\u001b[0m\u001b[0;34m]\u001b[0m \u001b[0;34m=\u001b[0m \u001b[0mpredict_rating\u001b[0m\u001b[0;34m\u001b[0m\u001b[0;34m\u001b[0m\u001b[0m\n\u001b[0m\u001b[1;32m      7\u001b[0m \u001b[0mNewteleplay_data\u001b[0m\u001b[0;34m.\u001b[0m\u001b[0mto_csv\u001b[0m\u001b[0;34m(\u001b[0m\u001b[0;34m\"New_Teleplay-Copy1.csv\"\u001b[0m\u001b[0;34m,\u001b[0m\u001b[0mindex\u001b[0m \u001b[0;34m=\u001b[0m \u001b[0;32mFalse\u001b[0m\u001b[0;34m)\u001b[0m\u001b[0;34m\u001b[0m\u001b[0;34m\u001b[0m\u001b[0m\n",
      "\u001b[0;32m~/opt/anaconda3/lib/python3.8/site-packages/pandas/core/frame.py\u001b[0m in \u001b[0;36m__setitem__\u001b[0;34m(self, key, value)\u001b[0m\n\u001b[1;32m   3038\u001b[0m         \u001b[0;32melse\u001b[0m\u001b[0;34m:\u001b[0m\u001b[0;34m\u001b[0m\u001b[0;34m\u001b[0m\u001b[0m\n\u001b[1;32m   3039\u001b[0m             \u001b[0;31m# set column\u001b[0m\u001b[0;34m\u001b[0m\u001b[0;34m\u001b[0m\u001b[0;34m\u001b[0m\u001b[0m\n\u001b[0;32m-> 3040\u001b[0;31m             \u001b[0mself\u001b[0m\u001b[0;34m.\u001b[0m\u001b[0m_set_item\u001b[0m\u001b[0;34m(\u001b[0m\u001b[0mkey\u001b[0m\u001b[0;34m,\u001b[0m \u001b[0mvalue\u001b[0m\u001b[0;34m)\u001b[0m\u001b[0;34m\u001b[0m\u001b[0;34m\u001b[0m\u001b[0m\n\u001b[0m\u001b[1;32m   3041\u001b[0m \u001b[0;34m\u001b[0m\u001b[0m\n\u001b[1;32m   3042\u001b[0m     \u001b[0;32mdef\u001b[0m \u001b[0m_setitem_slice\u001b[0m\u001b[0;34m(\u001b[0m\u001b[0mself\u001b[0m\u001b[0;34m,\u001b[0m \u001b[0mkey\u001b[0m\u001b[0;34m:\u001b[0m \u001b[0mslice\u001b[0m\u001b[0;34m,\u001b[0m \u001b[0mvalue\u001b[0m\u001b[0;34m)\u001b[0m\u001b[0;34m:\u001b[0m\u001b[0;34m\u001b[0m\u001b[0;34m\u001b[0m\u001b[0m\n",
      "\u001b[0;32m~/opt/anaconda3/lib/python3.8/site-packages/pandas/core/frame.py\u001b[0m in \u001b[0;36m_set_item\u001b[0;34m(self, key, value)\u001b[0m\n\u001b[1;32m   3114\u001b[0m         \"\"\"\n\u001b[1;32m   3115\u001b[0m         \u001b[0mself\u001b[0m\u001b[0;34m.\u001b[0m\u001b[0m_ensure_valid_index\u001b[0m\u001b[0;34m(\u001b[0m\u001b[0mvalue\u001b[0m\u001b[0;34m)\u001b[0m\u001b[0;34m\u001b[0m\u001b[0;34m\u001b[0m\u001b[0m\n\u001b[0;32m-> 3116\u001b[0;31m         \u001b[0mvalue\u001b[0m \u001b[0;34m=\u001b[0m \u001b[0mself\u001b[0m\u001b[0;34m.\u001b[0m\u001b[0m_sanitize_column\u001b[0m\u001b[0;34m(\u001b[0m\u001b[0mkey\u001b[0m\u001b[0;34m,\u001b[0m \u001b[0mvalue\u001b[0m\u001b[0;34m)\u001b[0m\u001b[0;34m\u001b[0m\u001b[0;34m\u001b[0m\u001b[0m\n\u001b[0m\u001b[1;32m   3117\u001b[0m         \u001b[0mNDFrame\u001b[0m\u001b[0;34m.\u001b[0m\u001b[0m_set_item\u001b[0m\u001b[0;34m(\u001b[0m\u001b[0mself\u001b[0m\u001b[0;34m,\u001b[0m \u001b[0mkey\u001b[0m\u001b[0;34m,\u001b[0m \u001b[0mvalue\u001b[0m\u001b[0;34m)\u001b[0m\u001b[0;34m\u001b[0m\u001b[0;34m\u001b[0m\u001b[0m\n\u001b[1;32m   3118\u001b[0m \u001b[0;34m\u001b[0m\u001b[0m\n",
      "\u001b[0;32m~/opt/anaconda3/lib/python3.8/site-packages/pandas/core/frame.py\u001b[0m in \u001b[0;36m_sanitize_column\u001b[0;34m(self, key, value, broadcast)\u001b[0m\n\u001b[1;32m   3762\u001b[0m \u001b[0;34m\u001b[0m\u001b[0m\n\u001b[1;32m   3763\u001b[0m             \u001b[0;31m# turn me into an ndarray\u001b[0m\u001b[0;34m\u001b[0m\u001b[0;34m\u001b[0m\u001b[0;34m\u001b[0m\u001b[0m\n\u001b[0;32m-> 3764\u001b[0;31m             \u001b[0mvalue\u001b[0m \u001b[0;34m=\u001b[0m \u001b[0msanitize_index\u001b[0m\u001b[0;34m(\u001b[0m\u001b[0mvalue\u001b[0m\u001b[0;34m,\u001b[0m \u001b[0mself\u001b[0m\u001b[0;34m.\u001b[0m\u001b[0mindex\u001b[0m\u001b[0;34m)\u001b[0m\u001b[0;34m\u001b[0m\u001b[0;34m\u001b[0m\u001b[0m\n\u001b[0m\u001b[1;32m   3765\u001b[0m             \u001b[0;32mif\u001b[0m \u001b[0;32mnot\u001b[0m \u001b[0misinstance\u001b[0m\u001b[0;34m(\u001b[0m\u001b[0mvalue\u001b[0m\u001b[0;34m,\u001b[0m \u001b[0;34m(\u001b[0m\u001b[0mnp\u001b[0m\u001b[0;34m.\u001b[0m\u001b[0mndarray\u001b[0m\u001b[0;34m,\u001b[0m \u001b[0mIndex\u001b[0m\u001b[0;34m)\u001b[0m\u001b[0;34m)\u001b[0m\u001b[0;34m:\u001b[0m\u001b[0;34m\u001b[0m\u001b[0;34m\u001b[0m\u001b[0m\n\u001b[1;32m   3766\u001b[0m                 \u001b[0;32mif\u001b[0m \u001b[0misinstance\u001b[0m\u001b[0;34m(\u001b[0m\u001b[0mvalue\u001b[0m\u001b[0;34m,\u001b[0m \u001b[0mlist\u001b[0m\u001b[0;34m)\u001b[0m \u001b[0;32mand\u001b[0m \u001b[0mlen\u001b[0m\u001b[0;34m(\u001b[0m\u001b[0mvalue\u001b[0m\u001b[0;34m)\u001b[0m \u001b[0;34m>\u001b[0m \u001b[0;36m0\u001b[0m\u001b[0;34m:\u001b[0m\u001b[0;34m\u001b[0m\u001b[0;34m\u001b[0m\u001b[0m\n",
      "\u001b[0;32m~/opt/anaconda3/lib/python3.8/site-packages/pandas/core/internals/construction.py\u001b[0m in \u001b[0;36msanitize_index\u001b[0;34m(data, index)\u001b[0m\n\u001b[1;32m    745\u001b[0m     \"\"\"\n\u001b[1;32m    746\u001b[0m     \u001b[0;32mif\u001b[0m \u001b[0mlen\u001b[0m\u001b[0;34m(\u001b[0m\u001b[0mdata\u001b[0m\u001b[0;34m)\u001b[0m \u001b[0;34m!=\u001b[0m \u001b[0mlen\u001b[0m\u001b[0;34m(\u001b[0m\u001b[0mindex\u001b[0m\u001b[0;34m)\u001b[0m\u001b[0;34m:\u001b[0m\u001b[0;34m\u001b[0m\u001b[0;34m\u001b[0m\u001b[0m\n\u001b[0;32m--> 747\u001b[0;31m         raise ValueError(\n\u001b[0m\u001b[1;32m    748\u001b[0m             \u001b[0;34m\"Length of values \"\u001b[0m\u001b[0;34m\u001b[0m\u001b[0;34m\u001b[0m\u001b[0m\n\u001b[1;32m    749\u001b[0m             \u001b[0;34mf\"({len(data)}) \"\u001b[0m\u001b[0;34m\u001b[0m\u001b[0;34m\u001b[0m\u001b[0m\n",
      "\u001b[0;31mValueError\u001b[0m: Length of values (2090) does not match length of index (2091)"
     ]
    }
   ],
   "source": [
    "#insert the rating to NewTeleply.csv\n",
    "\n",
    "predict_rating = np.around(predict_rating,decimals=2)\n",
    "print(predict_rating)\n",
    "#predict_rating = np.insert(predict_rating, 0, 'rating')\n",
    "Newteleplay_data['rating'] = predict_rating\n",
    "Newteleplay_data.to_csv(\"18063466D.csv\",index = False)"
   ]
  },
  {
   "cell_type": "code",
   "execution_count": null,
   "metadata": {},
   "outputs": [],
   "source": []
  }
 ],
 "metadata": {
  "kernelspec": {
   "display_name": "Python 3",
   "language": "python",
   "name": "python3"
  },
  "language_info": {
   "codemirror_mode": {
    "name": "ipython",
    "version": 3
   },
   "file_extension": ".py",
   "mimetype": "text/x-python",
   "name": "python",
   "nbconvert_exporter": "python",
   "pygments_lexer": "ipython3",
   "version": "3.8.5"
  }
 },
 "nbformat": 4,
 "nbformat_minor": 4
}
