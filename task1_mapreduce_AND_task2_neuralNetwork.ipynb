{
 "cells": [
  {
   "cell_type": "markdown",
   "metadata": {},
   "source": [
    "## Linear Regression Model"
   ]
  },
  {
   "cell_type": "code",
   "execution_count": 3,
   "metadata": {},
   "outputs": [],
   "source": [
    "class LinearRegressionUsingGD:\n",
    "    \"\"\"Linear Regression Using Gradient Descent.\n",
    "    Parameters\n",
    "    ----------\n",
    "    eta : float\n",
    "        Learning rate\n",
    "    n_iterations : int\n",
    "        No of passes over the training set\n",
    "    Attributes\n",
    "    ----------\n",
    "    w_ : weights/ after fitting the model\n",
    "    bias_ : bias / after fitting the model\n",
    "    cost_ : total error of the model after each iteration\n",
    "    \"\"\"\n",
    "\n",
    "    def __init__(self, eta=0.05, n_iterations=100):\n",
    "        self.eta = eta\n",
    "        self.n_iterations = n_iterations\n",
    "\n",
    "    def fit(self, x, y):\n",
    "        \"\"\"Fit the training data\n",
    "        Parameters\n",
    "        ----------\n",
    "        x : array-like, shape = [n_samples, n_features]\n",
    "            Training samples\n",
    "        y : array-like, shape = [n_samples, n_target_values]\n",
    "            Target values\n",
    "        Returns\n",
    "        -------\n",
    "        self : object\n",
    "        \"\"\"\n",
    "\n",
    "        self.cost_ = []\n",
    "        self.w_ = np.zeros((x.shape[1], 1))\n",
    "        self.bias_ = np.zeros((1,1))\n",
    "#         self.bias_ = np.zeros((x.shape[1], 1))\n",
    "        '''m is trainning data set'''\n",
    "        m = x.shape[0]\n",
    "        for _ in range(self.n_iterations):\n",
    "            y_pred = np.dot(x, self.w_) + self.bias_\n",
    "            residuals = y_pred - y\n",
    "            gradient_vector_weight = np.dot(x.T, residuals)\n",
    "            gradient_vector_bias = np.sum(residuals) \n",
    "            self.w_ = self.w_ - (self.eta / m) * gradient_vector_weight\n",
    "            self.bias_ = self.bias_ - (self.eta / m) * gradient_vector_bias\n",
    "            cost = np.sum((residuals ** 2)) / (2 * m)\n",
    "            self.cost_.append(cost)\n",
    "        #print(\"this is cost\")\n",
    "        #print(self.cost_)\n",
    "        return self\n",
    "\n",
    "    def predict(self, x):\n",
    "        \"\"\" Predicts the value after the model has been trained.\n",
    "        Parameters\n",
    "        ----------\n",
    "        x : array-like, shape = [n_samples, n_features]\n",
    "            Test samples\n",
    "        Returns\n",
    "        -------\n",
    "        Predicted value\n",
    "        \"\"\"\n",
    "        return np.dot(x, self.w_) + self.bias_"
   ]
  },
  {
   "cell_type": "code",
   "execution_count": 4,
   "metadata": {
    "scrolled": true
   },
   "outputs": [],
   "source": [
    "#import \n",
    "import numpy as np\n",
    "import matplotlib.pyplot as plt\n",
    "from sklearn.metrics import mean_squared_error, r2_score\n",
    "from sklearn.linear_model import LinearRegression\n",
    "from sklearn.model_selection import train_test_split\n",
    "from sklearn.decomposition import PCA\n",
    "from sklearn import linear_model\n",
    "import pandas as pd\n",
    "import seaborn as sns\n",
    "from sklearn.preprocessing import LabelEncoder\n",
    "import sys\n",
    "np.set_printoptions(threshold=500)\n"
   ]
  },
  {
   "cell_type": "markdown",
   "metadata": {},
   "source": [
    "## Input data"
   ]
  },
  {
   "cell_type": "code",
   "execution_count": 5,
   "metadata": {},
   "outputs": [],
   "source": [
    "#get data from each file\n",
    "train_data = pd.read_csv('Teleplay.csv', sep=',')\n",
    "predict_data = pd.read_csv('New_Teleplay.csv', sep=',')\n",
    "rating_data = pd.read_csv('Rating.csv', sep=',')\n",
    "\n",
    "#this data is used for inserting the rating into the New_Teleplay.csv at the end.\n",
    "New_Teleplay = pd.read_csv('New_Teleplay.csv', sep=',')\n",
    "New_Teleplay.drop(['rating'], axis=1,inplace=True)\n"
   ]
  },
  {
   "cell_type": "markdown",
   "metadata": {},
   "source": [
    "## Map and Reduce function to get the average rating from Rating.csv"
   ]
  },
  {
   "cell_type": "code",
   "execution_count": 6,
   "metadata": {},
   "outputs": [],
   "source": [
    "#map and reduce functions to get the average rating from Rating.csv\n",
    "def mapping(ratings):\n",
    "    unique=set()\n",
    "    ratings_dict = {} \n",
    "    for line in ratings.itertuples(): \n",
    "            tid=line.teleplay_id\n",
    "            if tid not in unique:\n",
    "                unique.add(tid) \n",
    "                ratings_dict[tid] = [line.rating]\n",
    "            else:\n",
    "                #ratings_dict[tid].append(line.rating)\n",
    "                if (line.rating > 0):\n",
    "                    ratings_dict[tid].append(line.rating)\n",
    "    return ratings_dict\n",
    "\n",
    "rating_of_each_movie_ratingcsv = mapping(rating_data)\n",
    "\n",
    "def reducing(ratings_dict):\n",
    "    avg_rating_dict={}\n",
    "    for key,value in ratings_dict.items():\n",
    "        avg_rating_dict[key] = round(sum(value)/len(value),2)\n",
    "    return avg_rating_dict\n",
    "\n",
    "    \n",
    "rating_of_each_movie_ratingcsv = reducing(rating_of_each_movie_ratingcsv)"
   ]
  },
  {
   "cell_type": "markdown",
   "metadata": {},
   "source": [
    "## Attach the average rating as new feature to teleplay"
   ]
  },
  {
   "cell_type": "code",
   "execution_count": 7,
   "metadata": {},
   "outputs": [],
   "source": [
    "#insert the avg rating from Rating.csv to train_data\n",
    "train_data['avg_rating_from_ratingcsv'] = train_data['teleplay_id'].map(rating_of_each_movie_ratingcsv)\n",
    "predict_data['avg_rating_from_ratingcsv'] = predict_data['teleplay_id'].map(rating_of_each_movie_ratingcsv)"
   ]
  },
  {
   "cell_type": "markdown",
   "metadata": {},
   "source": [
    "# Data preprocessing"
   ]
  },
  {
   "cell_type": "markdown",
   "metadata": {},
   "source": [
    "## Data filtration to select suitable features"
   ]
  },
  {
   "cell_type": "code",
   "execution_count": 8,
   "metadata": {},
   "outputs": [],
   "source": [
    "#select suitable features\n",
    "train_data.drop(['teleplay_id', 'name'], axis=1,inplace=True)\n",
    "predict_data.drop(['teleplay_id', 'name','rating'], axis=1,inplace=True)\n",
    "\n",
    "#delete null data for train data\n",
    "train_data = train_data.dropna(how='any',axis=0)\n",
    "train_data = train_data.reset_index(drop=True)"
   ]
  },
  {
   "cell_type": "markdown",
   "metadata": {},
   "source": [
    "## Feature encoding "
   ]
  },
  {
   "cell_type": "code",
   "execution_count": 9,
   "metadata": {},
   "outputs": [
    {
     "data": {
      "text/html": [
       "<div>\n",
       "<style scoped>\n",
       "    .dataframe tbody tr th:only-of-type {\n",
       "        vertical-align: middle;\n",
       "    }\n",
       "\n",
       "    .dataframe tbody tr th {\n",
       "        vertical-align: top;\n",
       "    }\n",
       "\n",
       "    .dataframe thead th {\n",
       "        text-align: right;\n",
       "    }\n",
       "</style>\n",
       "<table border=\"1\" class=\"dataframe\">\n",
       "  <thead>\n",
       "    <tr style=\"text-align: right;\">\n",
       "      <th></th>\n",
       "      <th>genre</th>\n",
       "      <th>type</th>\n",
       "      <th>episodes</th>\n",
       "      <th>rating</th>\n",
       "      <th>members</th>\n",
       "      <th>avg_rating_from_ratingcsv</th>\n",
       "    </tr>\n",
       "  </thead>\n",
       "  <tbody>\n",
       "    <tr>\n",
       "      <th>0</th>\n",
       "      <td>Drama, Romance, School, Supernatural</td>\n",
       "      <td>3</td>\n",
       "      <td>1</td>\n",
       "      <td>9.37</td>\n",
       "      <td>200630</td>\n",
       "      <td>9.43</td>\n",
       "    </tr>\n",
       "    <tr>\n",
       "      <th>1</th>\n",
       "      <td>Action, Comedy, Historical, Parody, Samurai, S...</td>\n",
       "      <td>2</td>\n",
       "      <td>51</td>\n",
       "      <td>9.25</td>\n",
       "      <td>114262</td>\n",
       "      <td>9.44</td>\n",
       "    </tr>\n",
       "    <tr>\n",
       "      <th>2</th>\n",
       "      <td>Sci-Fi, Thriller</td>\n",
       "      <td>2</td>\n",
       "      <td>24</td>\n",
       "      <td>9.17</td>\n",
       "      <td>673572</td>\n",
       "      <td>9.26</td>\n",
       "    </tr>\n",
       "    <tr>\n",
       "      <th>3</th>\n",
       "      <td>Action, Comedy, Historical, Parody, Samurai, S...</td>\n",
       "      <td>2</td>\n",
       "      <td>51</td>\n",
       "      <td>9.16</td>\n",
       "      <td>151266</td>\n",
       "      <td>9.27</td>\n",
       "    </tr>\n",
       "    <tr>\n",
       "      <th>4</th>\n",
       "      <td>Comedy, Drama, School, Shounen, Sports</td>\n",
       "      <td>2</td>\n",
       "      <td>10</td>\n",
       "      <td>9.15</td>\n",
       "      <td>93351</td>\n",
       "      <td>9.17</td>\n",
       "    </tr>\n",
       "  </tbody>\n",
       "</table>\n",
       "</div>"
      ],
      "text/plain": [
       "                                               genre  type  episodes  rating  \\\n",
       "0               Drama, Romance, School, Supernatural     3         1    9.37   \n",
       "1  Action, Comedy, Historical, Parody, Samurai, S...     2        51    9.25   \n",
       "2                                   Sci-Fi, Thriller     2        24    9.17   \n",
       "3  Action, Comedy, Historical, Parody, Samurai, S...     2        51    9.16   \n",
       "4             Comedy, Drama, School, Shounen, Sports     2        10    9.15   \n",
       "\n",
       "   members  avg_rating_from_ratingcsv  \n",
       "0   200630                       9.43  \n",
       "1   114262                       9.44  \n",
       "2   673572                       9.26  \n",
       "3   151266                       9.27  \n",
       "4    93351                       9.17  "
      ]
     },
     "execution_count": 9,
     "metadata": {},
     "output_type": "execute_result"
    }
   ],
   "source": [
    "#feature encoding for training data\n",
    "for line in range(0,train_data.shape[0]):\n",
    "    if(train_data.iloc[line].episodes == 'Unknown'):\n",
    "        train_data.at[line, 'episodes'] = 0\n",
    "    if (train_data.iloc[line].type == 'short'):\n",
    "        train_data.at[line, 'type'] = 1\n",
    "    elif (train_data.iloc[line].type == 'medium'):\n",
    "        train_data.at[line, 'type'] = 2\n",
    "    elif (train_data.iloc[line].type == 'long'):\n",
    "        train_data.at[line, 'type'] = 3\n",
    "    elif (train_data.iloc[line].type == 'Special'):\n",
    "        train_data.at[line, 'type'] = 4\n",
    "    elif (train_data.iloc[line].type == 'ONA'):\n",
    "        train_data.at[line, 'type'] = 5\n",
    "    else:\n",
    "        train_data.at[line, 'type'] = 0\n",
    "    \n",
    "        \n",
    "#feature encoding for predicted data\n",
    "for line in range(0,predict_data.shape[0]):\n",
    "    if(predict_data.iloc[line].episodes == 'Unknown'):\n",
    "        predict_data.at[line, 'episodes'] = 0\n",
    "    if (predict_data.iloc[line].type == 'short'):\n",
    "        predict_data.at[line, 'type'] = 1\n",
    "    elif (predict_data.iloc[line].type == 'medium'):\n",
    "        predict_data.at[line, 'type'] = 2\n",
    "    elif (predict_data.iloc[line].type == 'long'):\n",
    "        predict_data.at[line, 'type'] = 3\n",
    "    elif (predict_data.iloc[line].type == 'Special'):\n",
    "        predict_data.at[line, 'type'] = 4\n",
    "    elif (predict_data.iloc[line].type == 'ONA'):\n",
    "        predict_data.at[line, 'type'] = 5\n",
    "    else:\n",
    "        predict_data.at[line, 'type'] = 0\n",
    "\n",
    "#change string value or object to integer\n",
    "train_data['episodes'] = train_data['episodes'].astype(int)\n",
    "train_data['type'] = train_data['type'].astype(int)\n",
    "predict_data['episodes'] = predict_data['episodes'].astype(int)\n",
    "predict_data['type'] = predict_data['type'].astype(int)\n",
    "\n",
    "train_data.head()"
   ]
  },
  {
   "cell_type": "markdown",
   "metadata": {},
   "source": [
    "## Fill null data for predicted data"
   ]
  },
  {
   "cell_type": "code",
   "execution_count": 10,
   "metadata": {},
   "outputs": [
    {
     "name": "stdout",
     "output_type": "stream",
     "text": [
      "genre                        0\n",
      "type                         0\n",
      "episodes                     0\n",
      "rating                       0\n",
      "members                      0\n",
      "avg_rating_from_ratingcsv    0\n",
      "dtype: int64\n",
      "genre                        0\n",
      "type                         0\n",
      "episodes                     0\n",
      "members                      0\n",
      "avg_rating_from_ratingcsv    0\n",
      "dtype: int64\n"
     ]
    }
   ],
   "source": [
    "#fill the null data of train data for each feature\n",
    "\n",
    "train_data[\"avg_rating_from_ratingcsv\"] = train_data[\"avg_rating_from_ratingcsv\"].fillna(train_data[\"avg_rating_from_ratingcsv\"].mean())\n",
    "train_data['avg_rating_from_ratingcsv'] = train_data['avg_rating_from_ratingcsv'].astype(float)\n",
    "\n",
    "#fill the null data of predict data for each feature\n",
    "predict_data[\"episodes\"] = predict_data[\"episodes\"].fillna(predict_data[\"episodes\"].mean())\n",
    "predict_data[\"type\"] = predict_data[\"type\"].fillna(predict_data[\"type\"].mode()[0])\n",
    "predict_data[\"genre\"]=predict_data[\"genre\"].fillna(predict_data[\"genre\"].mode()[0])\n",
    "predict_data[\"avg_rating_from_ratingcsv\"] = predict_data[\"avg_rating_from_ratingcsv\"].fillna(predict_data[\"avg_rating_from_ratingcsv\"].mean())\n",
    "predict_data['avg_rating_from_ratingcsv'] = predict_data['avg_rating_from_ratingcsv'].astype(float)\n",
    "print(train_data.isnull().sum())\n",
    "print(predict_data.isnull().sum())"
   ]
  },
  {
   "cell_type": "markdown",
   "metadata": {},
   "source": [
    "## Feature  scaling"
   ]
  },
  {
   "cell_type": "code",
   "execution_count": 11,
   "metadata": {},
   "outputs": [],
   "source": [
    "#data smoothing\n",
    "train_data[\"members\"]=train_data[\"members\"].apply(np.log1p)\n",
    "predict_data[\"members\"]=predict_data[\"members\"].apply(np.log1p)\n",
    "train_data[\"episodes\"]=train_data[\"episodes\"].apply(np.log1p)\n",
    "predict_data[\"episodes\"]=predict_data[\"episodes\"].apply(np.log1p)"
   ]
  },
  {
   "cell_type": "markdown",
   "metadata": {},
   "source": [
    "## One-hot encoding for genres"
   ]
  },
  {
   "cell_type": "code",
   "execution_count": 12,
   "metadata": {},
   "outputs": [
    {
     "data": {
      "text/html": [
       "<div>\n",
       "<style scoped>\n",
       "    .dataframe tbody tr th:only-of-type {\n",
       "        vertical-align: middle;\n",
       "    }\n",
       "\n",
       "    .dataframe tbody tr th {\n",
       "        vertical-align: top;\n",
       "    }\n",
       "\n",
       "    .dataframe thead th {\n",
       "        text-align: right;\n",
       "    }\n",
       "</style>\n",
       "<table border=\"1\" class=\"dataframe\">\n",
       "  <thead>\n",
       "    <tr style=\"text-align: right;\">\n",
       "      <th></th>\n",
       "      <th>type</th>\n",
       "      <th>episodes</th>\n",
       "      <th>rating</th>\n",
       "      <th>members</th>\n",
       "      <th>avg_rating_from_ratingcsv</th>\n",
       "      <th>Drama</th>\n",
       "      <th>Romance</th>\n",
       "      <th>School</th>\n",
       "      <th>Supernatural</th>\n",
       "      <th>Action</th>\n",
       "      <th>...</th>\n",
       "      <th>Ecchi</th>\n",
       "      <th>Martial Arts</th>\n",
       "      <th>Dementia</th>\n",
       "      <th>Harem</th>\n",
       "      <th>Cars</th>\n",
       "      <th>Kids</th>\n",
       "      <th>Shoujo Ai</th>\n",
       "      <th>Restricted</th>\n",
       "      <th>Yaoi</th>\n",
       "      <th>Yuri</th>\n",
       "    </tr>\n",
       "  </thead>\n",
       "  <tbody>\n",
       "    <tr>\n",
       "      <th>0</th>\n",
       "      <td>3</td>\n",
       "      <td>0.693147</td>\n",
       "      <td>9.37</td>\n",
       "      <td>12.209223</td>\n",
       "      <td>9.43</td>\n",
       "      <td>1</td>\n",
       "      <td>1</td>\n",
       "      <td>1</td>\n",
       "      <td>1</td>\n",
       "      <td>0</td>\n",
       "      <td>...</td>\n",
       "      <td>0</td>\n",
       "      <td>0</td>\n",
       "      <td>0</td>\n",
       "      <td>0</td>\n",
       "      <td>0</td>\n",
       "      <td>0</td>\n",
       "      <td>0</td>\n",
       "      <td>0</td>\n",
       "      <td>0</td>\n",
       "      <td>0</td>\n",
       "    </tr>\n",
       "    <tr>\n",
       "      <th>1</th>\n",
       "      <td>2</td>\n",
       "      <td>3.951244</td>\n",
       "      <td>9.25</td>\n",
       "      <td>11.646258</td>\n",
       "      <td>9.44</td>\n",
       "      <td>0</td>\n",
       "      <td>0</td>\n",
       "      <td>0</td>\n",
       "      <td>0</td>\n",
       "      <td>1</td>\n",
       "      <td>...</td>\n",
       "      <td>0</td>\n",
       "      <td>0</td>\n",
       "      <td>0</td>\n",
       "      <td>0</td>\n",
       "      <td>0</td>\n",
       "      <td>0</td>\n",
       "      <td>0</td>\n",
       "      <td>0</td>\n",
       "      <td>0</td>\n",
       "      <td>0</td>\n",
       "    </tr>\n",
       "    <tr>\n",
       "      <th>2</th>\n",
       "      <td>2</td>\n",
       "      <td>3.218876</td>\n",
       "      <td>9.17</td>\n",
       "      <td>13.420352</td>\n",
       "      <td>9.26</td>\n",
       "      <td>0</td>\n",
       "      <td>0</td>\n",
       "      <td>0</td>\n",
       "      <td>0</td>\n",
       "      <td>0</td>\n",
       "      <td>...</td>\n",
       "      <td>0</td>\n",
       "      <td>0</td>\n",
       "      <td>0</td>\n",
       "      <td>0</td>\n",
       "      <td>0</td>\n",
       "      <td>0</td>\n",
       "      <td>0</td>\n",
       "      <td>0</td>\n",
       "      <td>0</td>\n",
       "      <td>0</td>\n",
       "    </tr>\n",
       "    <tr>\n",
       "      <th>3</th>\n",
       "      <td>2</td>\n",
       "      <td>3.951244</td>\n",
       "      <td>9.16</td>\n",
       "      <td>11.926802</td>\n",
       "      <td>9.27</td>\n",
       "      <td>0</td>\n",
       "      <td>0</td>\n",
       "      <td>0</td>\n",
       "      <td>0</td>\n",
       "      <td>1</td>\n",
       "      <td>...</td>\n",
       "      <td>0</td>\n",
       "      <td>0</td>\n",
       "      <td>0</td>\n",
       "      <td>0</td>\n",
       "      <td>0</td>\n",
       "      <td>0</td>\n",
       "      <td>0</td>\n",
       "      <td>0</td>\n",
       "      <td>0</td>\n",
       "      <td>0</td>\n",
       "    </tr>\n",
       "    <tr>\n",
       "      <th>4</th>\n",
       "      <td>2</td>\n",
       "      <td>2.397895</td>\n",
       "      <td>9.15</td>\n",
       "      <td>11.444133</td>\n",
       "      <td>9.17</td>\n",
       "      <td>1</td>\n",
       "      <td>0</td>\n",
       "      <td>1</td>\n",
       "      <td>0</td>\n",
       "      <td>0</td>\n",
       "      <td>...</td>\n",
       "      <td>0</td>\n",
       "      <td>0</td>\n",
       "      <td>0</td>\n",
       "      <td>0</td>\n",
       "      <td>0</td>\n",
       "      <td>0</td>\n",
       "      <td>0</td>\n",
       "      <td>0</td>\n",
       "      <td>0</td>\n",
       "      <td>0</td>\n",
       "    </tr>\n",
       "  </tbody>\n",
       "</table>\n",
       "<p>5 rows × 48 columns</p>\n",
       "</div>"
      ],
      "text/plain": [
       "   type  episodes  rating    members  avg_rating_from_ratingcsv  Drama  \\\n",
       "0     3  0.693147    9.37  12.209223                       9.43      1   \n",
       "1     2  3.951244    9.25  11.646258                       9.44      0   \n",
       "2     2  3.218876    9.17  13.420352                       9.26      0   \n",
       "3     2  3.951244    9.16  11.926802                       9.27      0   \n",
       "4     2  2.397895    9.15  11.444133                       9.17      1   \n",
       "\n",
       "   Romance  School  Supernatural  Action  ...  Ecchi  Martial Arts  Dementia  \\\n",
       "0        1       1             1       0  ...      0             0         0   \n",
       "1        0       0             0       1  ...      0             0         0   \n",
       "2        0       0             0       0  ...      0             0         0   \n",
       "3        0       0             0       1  ...      0             0         0   \n",
       "4        0       1             0       0  ...      0             0         0   \n",
       "\n",
       "   Harem  Cars  Kids  Shoujo Ai  Restricted  Yaoi  Yuri  \n",
       "0      0     0     0          0           0     0     0  \n",
       "1      0     0     0          0           0     0     0  \n",
       "2      0     0     0          0           0     0     0  \n",
       "3      0     0     0          0           0     0     0  \n",
       "4      0     0     0          0           0     0     0  \n",
       "\n",
       "[5 rows x 48 columns]"
      ]
     },
     "execution_count": 12,
     "metadata": {},
     "output_type": "execute_result"
    }
   ],
   "source": [
    "#find out how many genres\n",
    "genres = []\n",
    "for line in train_data.itertuples(index=False):\n",
    "    for genre in line.genre.split(\",\"):\n",
    "        if genre.strip() not in genres:\n",
    "            genres.append(genre.strip())\n",
    "\n",
    "#one hot encoding for genres\n",
    "train_data[genres] = 0\n",
    "predict_data[genres] = 0\n",
    "for line in range(0,train_data.shape[0]):\n",
    "    for each_genre in train_data.iloc[line].genre.split(\",\"):\n",
    "        temp = each_genre.strip()\n",
    "        train_data.at[line, temp] = 1\n",
    "\n",
    "for line in range(0,predict_data.shape[0]):\n",
    "    for each_genre in predict_data.iloc[line].genre.split(\",\"):\n",
    "        temp = each_genre.strip()\n",
    "        predict_data.at[line, temp] = 1\n",
    "        \n",
    "train_data.drop(['genre'], axis=1,inplace=True)\n",
    "predict_data.drop(['genre'], axis=1,inplace=True)\n",
    "train_data.head()"
   ]
  },
  {
   "cell_type": "markdown",
   "metadata": {},
   "source": [
    "# Analytics"
   ]
  },
  {
   "cell_type": "markdown",
   "metadata": {},
   "source": [
    "## Prepare train data and test data"
   ]
  },
  {
   "cell_type": "code",
   "execution_count": 13,
   "metadata": {},
   "outputs": [],
   "source": [
    "#convert data to np.array\n",
    "y=train_data[\"rating\"].to_numpy()\n",
    "y = y.reshape(y.shape[0],1)\n",
    "x=train_data.drop(\"rating\", axis=1).to_numpy()\n",
    "predict_x = predict_data.to_numpy()\n",
    "\n",
    "#set up training data and test data\n",
    "train_x, test_x, train_y, test_y=train_test_split(x, y, test_size=0.33, random_state=109)\n",
    "predict_rating=[]"
   ]
  },
  {
   "cell_type": "markdown",
   "metadata": {},
   "source": [
    "   ## Run linear regression model and input data to New_Teleplay.csv"
   ]
  },
  {
   "cell_type": "code",
   "execution_count": 14,
   "metadata": {},
   "outputs": [
    {
     "name": "stdout",
     "output_type": "stream",
     "text": [
      "Mean squared error: 0.42\n",
      "Coefficient of determination: 0.56\n"
     ]
    },
    {
     "data": {
      "image/png": "[encoded data removed]",
      "text/plain": [
       "<Figure size 432x288 with 1 Axes>"
      ]
     },
     "metadata": {
      "needs_background": "light"
     },
     "output_type": "display_data"
    },
    {
     "data": {
      "image/png": "[encoded data removed]",
      "text/plain": [
       "<Figure size 432x288 with 1 Axes>"
      ]
     },
     "metadata": {
      "needs_background": "light"
     },
     "output_type": "display_data"
    }
   ],
   "source": [
    "def run():\n",
    "    #model Initialization\n",
    "    model = LinearRegressionUsingGD(eta=0.01,n_iterations=5000)\n",
    "    model.fit(train_x,train_y)\n",
    "    y_pred = model.predict(test_x)\n",
    "    \n",
    "    #use model to predict the rating for New_Teleplay.csv\n",
    "    predict_rating = model.predict(predict_x)\n",
    "#     print(predict_rating)\n",
    "#     predict_rating = np.array(predict_rating, dtype=np.float)\n",
    "    #round predicted rating to 2 decimal places\n",
    "    round_predict_rating = np.around(predict_rating, decimals=2)\n",
    "    \n",
    "    #store the predicted rating to New_Teleplay.csv\n",
    "    New_Teleplay['rating'] = round_predict_rating.reshape((round_predict_rating.shape[0]))\n",
    "    New_Teleplay.to_csv('18063466D_task1.csv',index=False)\n",
    "    \n",
    "    #model evaluation\n",
    "    \n",
    "    # The mean squared error\n",
    "    print('Mean squared error: %.2f'% mean_squared_error(test_y, y_pred))\n",
    "    # The coefficient of determination: 1 is perfect prediction\n",
    "    print('Coefficient of determination: %.2f'% r2_score(test_y, y_pred))\n",
    "    plt.ylabel(\"loss\")\n",
    "    plt.xlabel(\"iterations\")\n",
    "    plt.plot(model.cost_, color = 'b')\n",
    "    plt.show()\n",
    "\n",
    "    sns.regplot(x=test_y, y=y_pred)\n",
    "run()"
   ]
  },
  {
   "cell_type": "markdown",
   "metadata": {},
   "source": [
    "# Neural Network for telepaly data"
   ]
  },
  {
   "cell_type": "code",
   "execution_count": 15,
   "metadata": {},
   "outputs": [
    {
     "name": "stdout",
     "output_type": "stream",
     "text": [
      "[[ 1.          0.69314718  4.06044301 ...  0.          0.\n",
      "   0.        ]\n",
      " [ 2.          2.56494936 13.33433597 ...  0.          0.\n",
      "   0.        ]\n",
      " [ 3.          0.69314718  6.79346613 ...  0.          0.\n",
      "   0.        ]\n",
      " ...\n",
      " [ 2.          4.35670883 11.52315299 ...  0.          0.\n",
      "   0.        ]\n",
      " [ 5.          1.38629436  4.65396035 ...  0.          0.\n",
      "   0.        ]\n",
      " [ 3.          0.69314718  6.16541785 ...  0.          0.\n",
      "   0.        ]]\n",
      "[[5.71]\n",
      " [8.07]\n",
      " [6.89]\n",
      " ...\n",
      " [8.36]\n",
      " [4.53]\n",
      " [6.81]]\n"
     ]
    },
    {
     "data": {
      "image/png": "[encoded data removed]",
      "text/plain": [
       "<Figure size 432x288 with 1 Axes>"
      ]
     },
     "metadata": {
      "needs_background": "light"
     },
     "output_type": "display_data"
    },
    {
     "name": "stdout",
     "output_type": "stream",
     "text": [
      "Accuracy: 0.7539170884731553\n"
     ]
    }
   ],
   "source": [
    "#import for neural network\n",
    "from sklearn.neural_network import MLPRegressor\n",
    "from sklearn.metrics import accuracy_score\n",
    "print(train_x)\n",
    "print(train_y)\n",
    "clf = MLPRegressor(random_state=109,max_iter=10000,solver=\"adam\",learning_rate=\"constant\")\n",
    "clf.fit(train_x,np.ravel(train_y))\n",
    "\n",
    "plt.plot(clf.loss_curve_, color='blue', linewidth=3)\n",
    "plt.ylabel(\"loss\")\n",
    "plt.xlabel(\"iterations\")\n",
    "plt.show()\n",
    "\n",
    "accuracy = clf.score(test_x,test_y)\n",
    "print(\"Accuracy:\",accuracy)\n"
   ]
  },
  {
   "cell_type": "code",
   "execution_count": null,
   "metadata": {},
   "outputs": [],
   "source": []
  }
 ],
 "metadata": {
  "kernelspec": {
   "display_name": "Python 3",
   "language": "python",
   "name": "python3"
  },
  "language_info": {
   "codemirror_mode": {
    "name": "ipython",
    "version": 3
   },
   "file_extension": ".py",
   "mimetype": "text/x-python",
   "name": "python",
   "nbconvert_exporter": "python",
   "pygments_lexer": "ipython3",
   "version": "3.8.10"
  }
 },
 "nbformat": 4,
 "nbformat_minor": 4
}
